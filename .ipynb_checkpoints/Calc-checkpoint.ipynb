{
 "cells": [
  {
   "cell_type": "code",
   "execution_count": 14,
   "metadata": {
    "scrolled": true
   },
   "outputs": [
    {
     "name": "stdout",
     "output_type": "stream",
     "text": [
      "1.56\n",
      "32.724056000000004\n",
      "32.772728\n",
      "0.031200000000000002\n",
      "0.6544811200000001\n",
      "0.65545456\n",
      "0.6678378775510205\n"
     ]
    }
   ],
   "source": [
    "\"\"\"Выборочные статистики\"\"\"\n",
    "mean = 0\n",
    "variance = 0.5\n",
    "n = 50\n",
    "def sampleSum(data):\n",
    "    mem = 0\n",
    "    for line in data:\n",
    "        for elem in line:\n",
    "            mem += elem\n",
    "    return mem\n",
    "def sampleUnbiasedSum(data):\n",
    "    mem = 0\n",
    "    samSum = sampleMean(data) \n",
    "    for line in data:\n",
    "        for elem in line:\n",
    "            mem += (elem - samSum)**2\n",
    "    return mem\n",
    "def unbiasedSum(data, a):\n",
    "    mem = 0\n",
    "    for line in data:\n",
    "        for elem in line:\n",
    "            mem += (elem - a)**2\n",
    "    return mem\n",
    "def sampleMean(data):\n",
    "    mem = 0\n",
    "    for line in data:\n",
    "        for elem in line:\n",
    "            mem += elem\n",
    "    mem = mem/n\n",
    "    return mem\n",
    "def sampleVariance(data):\n",
    "    mem = 0\n",
    "    samSum = sampleMean(data)\n",
    "    for line in data:\n",
    "        for elem in line:\n",
    "            mem += (elem - samSum)**2\n",
    "    return mem/n\n",
    "def sampleUnbiasedVariance(data, a):\n",
    "    mem = 0\n",
    "    for line in data:\n",
    "        for elem in line:\n",
    "            mem += (elem - a)**2\n",
    "    return mem/n\n",
    "def UnbiasedVariance(data):\n",
    "    mem = 0\n",
    "    samSum = sampleMean(data)\n",
    "    for line in data:\n",
    "        for elem in line:\n",
    "            mem += (elem - samSum)**2\n",
    "    return mem/(n-1)\n",
    "    \n",
    "f = open('data1.txt', 'r')\n",
    "data = [line.strip() for line in f]\n",
    "f.close()\n",
    "data = [line.split(' ') for line in data]\n",
    "for i in range(len(data)):\n",
    "    for j in range(len(data[0])):\n",
    "        data[i][j] = float(data[i][j])\n",
    "#sampleVariance(data)\n",
    "#Выборочное сумма\n",
    "print(sampleSum(data))\n",
    "#Выборочное несмещённая сумма\n",
    "print(sampleUnbiasedSum(data))\n",
    "#Исправленное выборочное среднее\n",
    "print(unbiasedSum(data, mean))\n",
    "#Выборочное среднее\n",
    "print(sampleMean(data))\n",
    "#Выборочная дисперсия\n",
    "print(sampleVariance(data))\n",
    "#Выборочная исправленая дисперсия\n",
    "print(sampleUnbiasedVariance(data, mean))\n",
    "#Несмещённая выборочная дисперсия\n",
    "print(UnbiasedVariance(data))"
   ]
  },
  {
   "cell_type": "code",
   "execution_count": null,
   "metadata": {},
   "outputs": [],
   "source": []
  },
  {
   "cell_type": "code",
   "execution_count": 25,
   "metadata": {},
   "outputs": [
    {
     "name": "stdout",
     "output_type": "stream",
     "text": [
      "1-eps/2 =  0.955\n",
      "q = 1.6953977102721358\n",
      "Доверительный интервал:\n",
      "( -0.13833977102721357 ; 0.20073977102721358 )\n"
     ]
    }
   ],
   "source": [
    "\"\"\"Поиск среднего при известной дисперсии\"\"\"\n",
    "\"\"\"Используем нормальное распределения\"\"\"\n",
    "import scipy.stats\n",
    "import math\n",
    "epsilon = 0.09\n",
    "X = sampleMean(data)\n",
    "\"\"\"Судя по таблице, q равен примерно 1.7\"\"\"\n",
    "q = norm.ppf(1-(epsilon/2))\n",
    "leftBoard = X - (q*math.sqrt(variance))/math.sqrt(n)\n",
    "rightBoard = X + (q*math.sqrt(variance))/math.sqrt(n)\n",
    "print(\"1-eps/2 = \", 1-(epsilon/2))\n",
    "print(\"q =\", q)\n",
    "print(\"Доверительный интервал:\")\n",
    "print(\"(\",leftBoard, \";\",rightBoard, \")\")"
   ]
  },
  {
   "cell_type": "code",
   "execution_count": 36,
   "metadata": {},
   "outputs": [
    {
     "name": "stdout",
     "output_type": "stream",
     "text": [
      "1-eps/2 =  0.955\n",
      "q = 1.7295851210495496\n",
      "( -0.16869064160069447 ; 0.23109064160069448 )\n"
     ]
    }
   ],
   "source": [
    "\"\"\"Поиск среднего при неизвестной дисперсии\"\"\"\n",
    "\"\"\"Используем распределение Стьюден\"\"\"\n",
    "from scipy.stats import t\n",
    "q = t.ppf(0.955, 49)\n",
    "X = sampleMean(data)\n",
    "S = math.sqrt(sampleVariance(data))\n",
    "leftBoard = X - (q*S/math.sqrt(n-1))\n",
    "rightBoard = X + (q*S/math.sqrt(n-1))\n",
    "print(\"1-eps/2 = \", 1-(epsilon/2))\n",
    "print(\"q =\", q)\n",
    "print(\"(\",leftBoard, \";\",rightBoard, \")\")"
   ]
  },
  {
   "cell_type": "code",
   "execution_count": 46,
   "metadata": {},
   "outputs": [
    {
     "name": "stdout",
     "output_type": "stream",
     "text": [
      "q1 = 34.370151122380726 q2 = 68.12321140321637\n",
      "1-eps/2 =  0.955 eps/2 =  0.045\n",
      "( 0.48108019755587544 ; 0.9535229531958463 )\n"
     ]
    }
   ],
   "source": [
    "\"\"\"Поиск диспресии при известном среднем\"\"\"\n",
    "\"\"\"Используем распределение Хи-квадрат\"\"\"\n",
    "from scipy.stats import chi2\n",
    "X = unbiasedSum(data, mean)\n",
    "q1 = chi2.ppf(0.045, 50)\n",
    "q2= chi2.ppf(0.955, 50)\n",
    "print(\"q1 =\", q1, \"q2 =\", q2)\n",
    "leftBoard = X/q2\n",
    "rightBoard = X/q1\n",
    "print(\"1-eps/2 = \", 1-(epsilon/2), \"eps/2 = \", epsilon/2)\n",
    "print(\"(\",leftBoard, \";\",rightBoard, \")\")"
   ]
  },
  {
   "cell_type": "code",
   "execution_count": 49,
   "metadata": {},
   "outputs": [
    {
     "name": "stdout",
     "output_type": "stream",
     "text": [
      "q1 = 33.54126755309221 q2 = 66.95197462660973\n",
      "( 0.6041644616737714 ; 1.2059771934454673 )\n"
     ]
    }
   ],
   "source": [
    "\"\"\"Поиск дисперсии при неизвестном среднем\"\"\"\n",
    "\"\"\"Используем теорему Фишера для нормальной выборки\"\"\"\n",
    "q1 = chi2.ppf(0.045, 49)\n",
    "q2= chi2.ppf(0.955, 49)\n",
    "print(\"q1 =\", q1, \"q2 =\", q2)\n",
    "S = math.sqrt(sampleVariance(data))\n",
    "leftBoard = n*S/q2\n",
    "rightBoard = n*S/q1\n",
    "print(\"(\",leftBoard, \";\",rightBoard, \")\")"
   ]
  },
  {
   "cell_type": "code",
   "execution_count": 51,
   "metadata": {},
   "outputs": [],
   "source": [
    "f = open('data2.txt', 'r')\n",
    "data = [line.strip() for line in f]\n",
    "f.close()\n",
    "data = [line.split(' ') for line in data]\n",
    "for i in range(len(data)):\n",
    "    for j in range(len(data[0])):\n",
    "        data[i][j] = float(data[i][j])\n",
    "n = len(data)*len(data[0])"
   ]
  },
  {
   "cell_type": "code",
   "execution_count": 52,
   "metadata": {},
   "outputs": [],
   "source": [
    "import numpy as np\n",
    "#sections = np.zeros((1,10))\n",
    "sections = [[] for i in range(10)]\n",
    "for line in data:\n",
    "    for elem in line:\n",
    "        for i in range(1,11):\n",
    "            if elem > i/10:\n",
    "                continue\n",
    "            else:\n",
    "                sections[i-1].append(elem)\n",
    "                break\n",
    "empiricalSec = [0 for i in range(len(sections))]\n",
    "empiricalSec[0] = len(sections[0])\n",
    "for i in range(1, len(sections)):\n",
    "    empiricalSec[i] = empiricalSec[i-1]+len(sections[i])\n",
    "histogram = [0 for i in range(len(sections))]\n",
    "for i in range(len(sections)):\n",
    "    histogram[i] = len(sections[i])\n",
    "empiric = [elem for line in data for elem in line]\n",
    "empiric.sort()\n",
    "\n",
    "def U01(t):\n",
    "    return t"
   ]
  },
  {
   "cell_type": "code",
   "execution_count": 56,
   "metadata": {},
   "outputs": [
    {
     "name": "stdout",
     "output_type": "stream",
     "text": [
      "argsup = 0.794 sup = 0.1273333333333334 Fn = 0.6666666666666666\n",
      "K(q) = 0.91 q = 1.2451910767331245 sqrt(n) * Dn =  0.697433389889912\n",
      "0.697433389889912 < 1.2451910767331245 => Гипотеза H0 принимается\n"
     ]
    },
    {
     "data": {
      "image/png": "[encoded data removed]",
      "text/plain": [
       "<Figure size 2160x720 with 1 Axes>"
      ]
     },
     "metadata": {},
     "output_type": "display_data"
    }
   ],
   "source": [
    "import matplotlib.pyplot as plt\n",
    "import matplotlib.lines as lines\n",
    "from matplotlib.lines import Line2D\n",
    "import math\n",
    "from scipy.stats import kstwobign\n",
    "\n",
    "x = [empiric[i] for i in range(30)]\n",
    "\n",
    "y = [(i+1)/n for i in range(len(x))]\n",
    "\n",
    "#Ищем супремум разности по краям \"ступеней\"\n",
    "sup = 0\n",
    "argsup = 0\n",
    "Fn = 0\n",
    "for i in range(29):\n",
    "    mem1 = math.fabs(y[i]-U01(x[i]))\n",
    "    mem2 = math.fabs(y[i]-U01(x[i+1]))\n",
    "    if (mem1 > mem2) and (mem1 > sup):\n",
    "        sup = mem1\n",
    "        Fn = y[i]\n",
    "        argsup = x[i]\n",
    "    if (mem2 > mem1) and (mem2 > sup):\n",
    "        sup = mem2\n",
    "        argsup = x[i+1]\n",
    "        Fn = y[i]\n",
    "print(\"argsup =\", argsup, \"sup =\", sup, \"Fn =\", Fn)\n",
    "\n",
    "#Значения K(q) = 1-eps и q\n",
    "K = 1-epsilon\n",
    "q = kstwobign.ppf(0.91)\n",
    "print(\"K(q) =\", K, \"q =\", q, \"sqrt(n) * Dn = \", sup*math.sqrt(30))\n",
    "print(math.sqrt(n) * sup, \"<\", q, \"=> Гипотеза H0 принимается\")\n",
    "\n",
    "\n",
    "xticks = 1/30\n",
    "yticks = 1/10\n",
    "xx = [-1/10 + i*xticks for i in range(36)]\n",
    "yy = [-1/10 + i*yticks for i in range(14)]\n",
    "\n",
    "\n",
    "fig = plt.figure(figsize = (30,10))\n",
    "ax = fig.add_subplot(111)\n",
    "\n",
    "ax.set_xticks(xx)\n",
    "ax.set_yticks(yy)\n",
    "\n",
    "#Оси координат\n",
    "l1 = Line2D([-2, 2], [0, 0])\n",
    "l2 = Line2D([0, 0], [-2, 2])\n",
    "ax.add_line(l1)\n",
    "ax.add_line(l2)\n",
    "\n",
    "#Продление графика на бесконечность\n",
    "#l2 = Line2D([1, 2], [1, 1])\n",
    "#ax.add_line(l2)\n",
    "\n",
    "for i in range(29):\n",
    "    l1 = Line2D([x[i], x[i]], [0, y[i]])\n",
    "    l2 = Line2D([x[i], x[i+1]], [y[i], y[i]])\n",
    "    l3 = Line2D([x[i+1], x[i+1]], [y[i], 0])\n",
    "    ax.add_line(l1)\n",
    "    ax.add_line(l2)\n",
    "    ax.add_line(l3)\n",
    "    \n",
    "l1 = Line2D([x[29], x[29]], [0, 1])\n",
    "l2 = Line2D([x[29], 2], [1, 1])\n",
    "ax.add_line(l1)\n",
    "ax.add_line(l2)\n",
    "\n",
    "\n",
    "l1 = Line2D([0, 1], [0, 1])\n",
    "ax.add_line(l1)\n",
    "#ax.add_line(Line2D([0,1], [0,0]))\n",
    "#ax.plot(x, y, 'b')\n",
    "#ax.scatter(c1,c1Values, color = 'red')\n",
    "#ax.scatter(c2,c2Values, color = 'red')\n",
    "ax.grid(True)\n",
    "\n",
    "# В отличие от интерфейса pyplot, команды для назначения подписей \n",
    "# нужно употреблять с приставкой set_\n",
    "\n",
    "ax.set_title(u'График эмперической функции распределения')\n",
    "ax.set_xlabel(u'Ось абсцисс')\n",
    "ax.set_ylabel(u'Ось ординат')\n",
    "\n",
    "plt.show()"
   ]
  },
  {
   "cell_type": "code",
   "execution_count": null,
   "metadata": {},
   "outputs": [],
   "source": []
  },
  {
   "cell_type": "code",
   "execution_count": 48,
   "metadata": {},
   "outputs": [
    {
     "name": "stdout",
     "output_type": "stream",
     "text": [
      "[0.0, 0.1, 0.2, 0.3, 0.4, 0.5, 0.6, 0.7, 0.8, 0.9, 1.0]\n",
      "[0.03333333333333333, 0.06666666666666667, 0.1, 0.26666666666666666, 0.03333333333333333, 0.13333333333333333, 0.03333333333333333, 0.03333333333333333, 0.16666666666666666, 0.13333333333333333]\n"
     ]
    },
    {
     "data": {
      "image/png": "[encoded data removed]",
      "text/plain": [
       "<Figure size 2160x720 with 1 Axes>"
      ]
     },
     "metadata": {},
     "output_type": "display_data"
    }
   ],
   "source": [
    "import matplotlib.pyplot as plt\n",
    "import matplotlib.lines as lines\n",
    "from matplotlib.lines import Line2D\n",
    "\n",
    "\n",
    "x = [i/10 for i in range(11)]\n",
    "print(x)\n",
    "\n",
    "y = [histogram[i]/n for i in range(len(x)-1)]\n",
    "print(y)\n",
    "\n",
    "xticks = 1/10\n",
    "yticks = 1/10\n",
    "xx = [-1/10 + i*xticks for i in range(13)]\n",
    "yy = [-1/10 + i*yticks for i in range(13)]\n",
    "\n",
    "\n",
    "fig = plt.figure(figsize = (30,10))\n",
    "ax = fig.add_subplot(111)\n",
    "\n",
    "ax.set_xticks(xx)\n",
    "ax.set_yticks(yy)\n",
    "\n",
    "#Оси координат\n",
    "l1 = Line2D([-2, 2], [0, 0])\n",
    "l2 = Line2D([0, 0], [-2, 2])\n",
    "ax.add_line(l1)\n",
    "ax.add_line(l2)\n",
    "\n",
    "#Продление графика на бесконечность\n",
    "#l2 = Line2D([1, 2], [1, 1])\n",
    "#ax.add_line(l2)\n",
    "\n",
    "for i in range(10):\n",
    "    l1 = Line2D([x[i], x[i]], [0, y[i]])\n",
    "    l2 = Line2D([x[i], x[i+1]], [y[i], y[i]])\n",
    "    l3 = Line2D([x[i+1], x[i+1]], [y[i], 0])\n",
    "    ax.add_line(l1)\n",
    "    ax.add_line(l2)\n",
    "    ax.add_line(l3)\n",
    "\n",
    "    \n",
    "#ax.add_line(Line2D([0,1], [0,0]))\n",
    "#ax.plot(x, y, 'b')\n",
    "#ax.scatter(c1,c1Values, color = 'red')\n",
    "#ax.scatter(c2,c2Values, color = 'red')\n",
    "ax.grid(True)\n",
    "\n",
    "# В отличие от интерфейса pyplot, команды для назначения подписей \n",
    "# нужно употреблять с приставкой set_\n",
    "\n",
    "ax.set_title(u'Гистограмма')\n",
    "ax.set_xlabel(u'Ось абсцисс')\n",
    "ax.set_ylabel(u'Ось ординат')\n",
    "\n",
    "plt.show()"
   ]
  },
  {
   "cell_type": "code",
   "execution_count": 58,
   "metadata": {},
   "outputs": [
    {
     "name": "stdout",
     "output_type": "stream",
     "text": [
      "[6, 9, 5, 10] [0.25, 0.25, 0.25, 0.25] [0.0, 0.25, 0.5, 0.75, 1.0]\n",
      "2.2666666666666666\n",
      "2.2666666666666666 < 6.491457715844935 => H0 принимается\n"
     ]
    }
   ],
   "source": [
    "# Для критерия Пирсона хи-квадрат для выборки т=30 берём 4-5 интервалов\n",
    "# Пусть k = 4, epsilon = 0.015\n",
    "from scipy.stats import chi2\n",
    "k = 4\n",
    "n = 30\n",
    "delta = [i/(k) for i in range(k+1)]\n",
    "p = [delta[i+1] - delta[i] for i in range(k)]\n",
    "v = [0 for i in range(k)]\n",
    "for line in data:\n",
    "    for elem in line:\n",
    "        for i in range(k):\n",
    "            if elem > (i+1)/k:\n",
    "                continue\n",
    "            else:\n",
    "                v[i] += 1\n",
    "                break\n",
    "print(v, p, delta)\n",
    "\n",
    "mem = 0\n",
    "for i in range(k):\n",
    "    mem += ((v[i] - n*p[i])**2)/(n*p[i])\n",
    "print(mem)\n",
    "hi = 1-0.09\n",
    "q = chi2.ppf(hi, k-1)\n",
    "print(mem, \"<\", q, \"=> H0 принимается\")"
   ]
  },
  {
   "cell_type": "code",
   "execution_count": null,
   "metadata": {},
   "outputs": [],
   "source": []
  },
  {
   "cell_type": "code",
   "execution_count": 60,
   "metadata": {},
   "outputs": [],
   "source": [
    "import numpy as np\n",
    "import math\n",
    "\"Статистики для третьего задания\"\n",
    "\"Выборочная статистика для первых 20 значений\"\n",
    "def sampleMean(data, count):\n",
    "    mem = 0\n",
    "    for line in data:\n",
    "        for elem in line:\n",
    "            mem += elem\n",
    "    return mem/count\n",
    "def unbiasedVariance(data, count):\n",
    "    mem = 0.0\n",
    "    samSum = sampleMean(data, count)\n",
    "    for line in data:\n",
    "        for elem in line:\n",
    "            mem += (elem - samSum)**2\n",
    "    return mem/count\n",
    "\n",
    "f = open('data1.txt', 'r')\n",
    "data = [line.strip() for line in f]\n",
    "f.close()\n",
    "data1 = np.zeros((2,10))\n",
    "data2 = np.zeros((3,10))\n",
    "data = [line.split(' ') for line in data]\n",
    "for i in range(5):\n",
    "    for j in range(10):\n",
    "        if (i < 2):\n",
    "            data1[i][j] = float(data[i][j])\n",
    "        else:\n",
    "            data2[i-2][j] = float(data[i][j])\n"
   ]
  },
  {
   "cell_type": "code",
   "execution_count": 64,
   "metadata": {},
   "outputs": [
    {
     "name": "stdout",
     "output_type": "stream",
     "text": [
      "-0.39688982196716194\n",
      "-1.7303119133366913 < -0.39688982196716194 < 1.7303119133366913 => H0 принимается\n"
     ]
    }
   ],
   "source": [
    "\"\"\"Проверка гипотезы о совпадении средних\"\"\"\n",
    "from scipy.stats import t\n",
    "X = sampleMean(data1, 29)\n",
    "Y = sampleMean(data2, 30)\n",
    "Sx = unbiasedVariance(data1, 20)\n",
    "Sy = unbiasedVariance(data2, 30)\n",
    "psi = (X-Y)/((math.sqrt(1.0/20.0+1.0/30.0)*(math.sqrt((20*Sx**2+30*Sy**2)/48))))\n",
    "epsilon = 0.09\n",
    "T = epsilon/2\n",
    "print(psi)\n",
    "q = t.ppf(0.955, 48)\n",
    "print(-q, \"<\", psi, \"<\", q, \"=> H0 принимается\")\n"
   ]
  },
  {
   "cell_type": "code",
   "execution_count": 13,
   "metadata": {},
   "outputs": [
    {
     "name": "stdout",
     "output_type": "stream",
     "text": [
      "[ 2.17009038 -1.69539771]\n",
      "q1 < ksi < q2\n",
      "0.47042313500498445 < 1.2536495102461431 < 1.999546326111434 => H0 принимается\n"
     ]
    }
   ],
   "source": [
    "\"\"\"Проверка гипотезы о совпадении дисперсий\"\"\"\n",
    "from scipy.stats import norm\n",
    "F1 = epsilon/2\n",
    "F2 = 1-epsilon/2\n",
    "ksi = (20*29*Sx)/(30*19*Sy)\n",
    "q2, q1 = f.ppf([0.955, 0.045], 19, 29)\n",
    "print(\"q1 < ksi < q2\")\n",
    "print(q1, \"<\", ksi, \"<\", q2, \"=> H0 принимается\")"
   ]
  },
  {
   "cell_type": "code",
   "execution_count": null,
   "metadata": {},
   "outputs": [],
   "source": []
  },
  {
   "cell_type": "code",
   "execution_count": null,
   "metadata": {},
   "outputs": [],
   "source": []
  }
 ],
 "metadata": {
  "kernelspec": {
   "display_name": "Python 3",
   "language": "python",
   "name": "python3"
  },
  "language_info": {
   "codemirror_mode": {
    "name": "ipython",
    "version": 3
   },
   "file_extension": ".py",
   "mimetype": "text/x-python",
   "name": "python",
   "nbconvert_exporter": "python",
   "pygments_lexer": "ipython3",
   "version": "3.6.5"
  }
 },
 "nbformat": 4,
 "nbformat_minor": 2
}
